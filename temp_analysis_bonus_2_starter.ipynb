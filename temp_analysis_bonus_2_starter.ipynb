{
 "cells": [
  {
   "cell_type": "code",
   "execution_count": 1,
   "metadata": {},
   "outputs": [],
   "source": [
    "%matplotlib inline\n",
    "from matplotlib import style\n",
    "style.use('fivethirtyeight')\n",
    "import matplotlib.pyplot as plt"
   ]
  },
  {
   "cell_type": "code",
   "execution_count": 2,
   "metadata": {},
   "outputs": [],
   "source": [
    "import numpy as np\n",
    "import pandas as pd\n",
    "import datetime as dt"
   ]
  },
  {
   "cell_type": "markdown",
   "metadata": {},
   "source": [
    "## Reflect Tables into SQLALchemy ORM"
   ]
  },
  {
   "cell_type": "code",
   "execution_count": 3,
   "metadata": {},
   "outputs": [],
   "source": [
    "# Python SQL toolkit and Object Relational Mapper\n",
    "import sqlalchemy\n",
    "from sqlalchemy.ext.automap import automap_base\n",
    "from sqlalchemy.orm import Session\n",
    "from sqlalchemy import create_engine, func"
   ]
  },
  {
   "cell_type": "code",
   "execution_count": 4,
   "metadata": {},
   "outputs": [],
   "source": [
    "# create engine to hawaii.sqlite\n",
    "engine = create_engine(\"sqlite:///Resources/hawaii.sqlite\")"
   ]
  },
  {
   "cell_type": "code",
   "execution_count": 5,
   "metadata": {},
   "outputs": [],
   "source": [
    "# reflect an existing database into a new model\n",
    "Base = automap_base()\n",
    "\n",
    "# reflect the tables\n",
    "Base.prepare(engine, reflect=True)"
   ]
  },
  {
   "cell_type": "code",
   "execution_count": 6,
   "metadata": {},
   "outputs": [
    {
     "data": {
      "text/plain": [
       "['measurement', 'station']"
      ]
     },
     "execution_count": 6,
     "metadata": {},
     "output_type": "execute_result"
    }
   ],
   "source": [
    "# View all of the classes that automap found\n",
    "Base.classes.keys()"
   ]
  },
  {
   "cell_type": "code",
   "execution_count": 7,
   "metadata": {},
   "outputs": [],
   "source": [
    "# Save references to each table\n",
    "Measurement = Base.classes.measurement\n",
    "Station = Base.classes.station"
   ]
  },
  {
   "cell_type": "code",
   "execution_count": 8,
   "metadata": {},
   "outputs": [],
   "source": [
    "# Create our session (link) from Python to the DB\n",
    "session = Session(engine)"
   ]
  },
  {
   "cell_type": "markdown",
   "metadata": {},
   "source": [
    "## Bonus Challenge Assignment: Temperature Analysis II"
   ]
  },
  {
   "cell_type": "code",
   "execution_count": 9,
   "metadata": {},
   "outputs": [
    {
     "name": "stdout",
     "output_type": "stream",
     "text": [
      "[(62.0, 69.57142857142857, 74.0)]\n"
     ]
    }
   ],
   "source": [
    "# This function called `calc_temps` will accept start date and end date in the format '%Y-%m-%d' \n",
    "# and return the minimum, maximum, and average temperatures for that range of dates\n",
    "def calc_temps(start_date, end_date):\n",
    "    \"\"\"TMIN, TAVG, and TMAX for a list of dates.\n",
    "    \n",
    "    Args:\n",
    "        start_date (string): A date string in the format %Y-%m-%d\n",
    "        end_date (string): A date string in the format %Y-%m-%d\n",
    "        \n",
    "    Returns:\n",
    "        TMIN, TAVE, and TMAX\n",
    "    \"\"\"\n",
    "    \n",
    "    return session.query(func.min(Measurement.tobs), func.avg(Measurement.tobs), func.max(Measurement.tobs)).\\\n",
    "        filter(Measurement.date >= start_date).filter(Measurement.date <= end_date).all()\n",
    "\n",
    "# For example\n",
    "print(calc_temps('2012-02-28', '2012-03-05'))"
   ]
  },
  {
   "cell_type": "code",
   "execution_count": 10,
   "metadata": {},
   "outputs": [
    {
     "name": "stdout",
     "output_type": "stream",
     "text": [
      "The min, avg and max temperatures between 2016-04-03 and 2015-04-03 are:56.0, 74.28028704094555 and 86.0\n"
     ]
    }
   ],
   "source": [
    "# Use the function `calc_temps` to calculate the tmin, tavg, and tmax \n",
    "# for a year in the data set\n",
    "\n",
    "end = '2016-04-03'\n",
    "start = '2015-04-03'\n",
    "\n",
    "trip_temps = calc_temps(start,end)\n",
    "\n",
    "print(f'The min, avg and max temperatures between {end} and {start} are:\\\n",
    "{trip_temps[0][0]}, {trip_temps[0][1]} and {trip_temps[0][2]}')"
   ]
  },
  {
   "cell_type": "code",
   "execution_count": 16,
   "metadata": {},
   "outputs": [
    {
     "data": {
      "image/png": "[encoded data removed]",
      "text/plain": [
       "<Figure size 216x288 with 1 Axes>"
      ]
     },
     "metadata": {},
     "output_type": "display_data"
    }
   ],
   "source": [
    "# Plot the results from your previous query as a bar chart. \n",
    "# Use \"Trip Avg Temp\" as your Title\n",
    "# Use the average temperature for bar height (y value)\n",
    "# Use the peak-to-peak (tmax-tmin) value as the y error bar (yerr)\n",
    "\n",
    "temp = trip_temps[0][1]\n",
    "x_axis = [1]\n",
    "yerr = trip_temps[0][2] - trip_temps[0][0]\n",
    "ytick_s = range(0,100,10)\n",
    "fig = plt.figure(figsize = (3,4))\n",
    "\n",
    "plt.bar(x_axis, temp, color='r', alpha=0.5, align=\"center\", yerr = yerr)\n",
    "tick_locations = [value for value in x_axis]\n",
    "plt.xticks(tick_locations, \"\")\n",
    "plt.xlim(0,2)\n",
    "\n",
    "plt.yticks(ytick_s)\n",
    "plt.tight_layout()\n",
    "plt.title(\"Trip Avg Temp\", fontsize = 16)\n",
    "plt.ylabel(\"Avg Temp, F\")\n",
    "fig.savefig('Images/temperatures.png')"
   ]
  },
  {
   "cell_type": "markdown",
   "metadata": {},
   "source": [
    "### Daily Rainfall Average"
   ]
  },
  {
   "cell_type": "code",
   "execution_count": 17,
   "metadata": {},
   "outputs": [
    {
     "data": {
      "text/plain": [
       "{'_sa_instance_state': <sqlalchemy.orm.state.InstanceState at 0x224dbb71240>,\n",
       " 'tobs': 65.0,\n",
       " 'id': 1,\n",
       " 'date': '2010-01-01',\n",
       " 'prcp': 0.08,\n",
       " 'station': 'USC00519397'}"
      ]
     },
     "execution_count": 17,
     "metadata": {},
     "output_type": "execute_result"
    }
   ],
   "source": [
    "# Take another look at Measurement keys\n",
    "first_row = session.query(Measurement).first()\n",
    "first_row.__dict__"
   ]
  },
  {
   "cell_type": "code",
   "execution_count": 19,
   "metadata": {},
   "outputs": [
    {
     "data": {
      "text/plain": [
       "{'_sa_instance_state': <sqlalchemy.orm.state.InstanceState at 0x224dbb71710>,\n",
       " 'station': 'USC00519397',\n",
       " 'longitude': -157.8168,\n",
       " 'name': 'WAIKIKI 717.2, HI US',\n",
       " 'id': 1,\n",
       " 'elevation': 3.0,\n",
       " 'latitude': 21.2716}"
      ]
     },
     "execution_count": 19,
     "metadata": {},
     "output_type": "execute_result"
    }
   ],
   "source": [
    "# Take another look at Station keys\n",
    "first_row = session.query(Station).first()\n",
    "first_row.__dict__"
   ]
  },
  {
   "cell_type": "code",
   "execution_count": 29,
   "metadata": {},
   "outputs": [
    {
     "data": {
      "text/plain": [
       "[('USC00517948',\n",
       "  'PEARL CITY, HI US',\n",
       "  78.0,\n",
       "  0.04,\n",
       "  -157.9751,\n",
       "  21.3934,\n",
       "  11.9,\n",
       "  3.3000000000000003),\n",
       " ('USC00519523',\n",
       "  'WAIMANALO EXPERIMENTAL FARM, HI US',\n",
       "  77.0,\n",
       "  0.0,\n",
       "  -157.71139,\n",
       "  21.33556,\n",
       "  19.5,\n",
       "  51.48999999999999),\n",
       " ('USC00519397',\n",
       "  'WAIKIKI 717.2, HI US',\n",
       "  72.0,\n",
       "  0.0,\n",
       "  -157.8168,\n",
       "  21.2716,\n",
       "  3.0,\n",
       "  16.05999999999999),\n",
       " ('USC00519281',\n",
       "  'WAIHEE 837.5, HI US',\n",
       "  74.0,\n",
       "  0.0,\n",
       "  -157.84888999999998,\n",
       "  21.45167,\n",
       "  32.9,\n",
       "  81.48999999999995),\n",
       " ('USC00514830',\n",
       "  'KUALOA RANCH HEADQUARTERS 886.9, HI US',\n",
       "  77.0,\n",
       "  0.0,\n",
       "  -157.8374,\n",
       "  21.5213,\n",
       "  7.0,\n",
       "  42.18999999999998),\n",
       " ('USC00513117',\n",
       "  'KANEOHE 838.1, HI US',\n",
       "  74.0,\n",
       "  0.0,\n",
       "  -157.8015,\n",
       "  21.4234,\n",
       "  14.6,\n",
       "  53.7),\n",
       " ('USC00511918',\n",
       "  'HONOLULU OBSERVATORY 702.2, HI US',\n",
       "  77.0,\n",
       "  0.0,\n",
       "  -157.9992,\n",
       "  21.3152,\n",
       "  0.9,\n",
       "  4.620000000000001),\n",
       " ('USC00518838',\n",
       "  'UPPER WAHIAWA 874.3, HI US',\n",
       "  72.0,\n",
       "  None,\n",
       "  -158.0111,\n",
       "  21.4992,\n",
       "  306.6,\n",
       "  0.0),\n",
       " ('USC00516128',\n",
       "  'MANOA LYON ARBO 785.2, HI US',\n",
       "  70.0,\n",
       "  None,\n",
       "  -157.8025,\n",
       "  21.3331,\n",
       "  152.4,\n",
       "  160.89000000000013)]"
      ]
     },
     "execution_count": 29,
     "metadata": {},
     "output_type": "execute_result"
    }
   ],
   "source": [
    "# Perform a join of the two data sets to incorporate long, lat data\n",
    "# Calculate the total amount of rainfall per weather station for your trip dates using the previous year's matching dates\n",
    "# Sort this in descending order by precipitation amount and list the station, name, latitude, longitude, and elevation\n",
    "\n",
    "sel = [Measurement.station, Station.name, Measurement.tobs, Measurement.prcp, Station.longitude,\n",
    "       Station.latitude, Station.elevation]\n",
    "\n",
    "same_station = session.query(*sel, func.sum(Measurement.prcp)).filter(Measurement.station == Station.station).\\\n",
    "                filter(Measurement.date >= start).filter(Measurement.date <= end).\\\n",
    "                group_by(Measurement.station).order_by(Measurement.prcp.desc()).all()\n",
    "\n",
    "same_station"
   ]
  },
  {
   "cell_type": "code",
   "execution_count": 56,
   "metadata": {},
   "outputs": [
    {
     "data": {
      "text/plain": [
       "[(62.0, 69.15384615384616, 77.0)]"
      ]
     },
     "execution_count": 56,
     "metadata": {},
     "output_type": "execute_result"
    }
   ],
   "source": [
    "# Use this function to calculate the daily normals \n",
    "# (i.e. the averages for tmin, tmax, and tavg for all historic data matching a specific month and day)\n",
    "\n",
    "def daily_normals(date):\n",
    "    \"\"\"Daily Normals.\n",
    "    \n",
    "    Args:\n",
    "        date (str): A date string in the format '%m-%d'\n",
    "        \n",
    "    Returns:\n",
    "        A list of tuples containing the daily normals, tmin, tavg, and tmax\n",
    "    \n",
    "    \"\"\"\n",
    "    \n",
    "    sel = [func.min(Measurement.tobs), func.avg(Measurement.tobs), func.max(Measurement.tobs)]\n",
    "    return session.query(*sel).filter(func.strftime(\"%m-%d\", Measurement.date) == date).all()\n",
    "\n",
    "# For example\n",
    "daily_normals(\"01-01\")"
   ]
  },
  {
   "cell_type": "code",
   "execution_count": 75,
   "metadata": {},
   "outputs": [],
   "source": [
    "# calculate the daily normals for your trip\n",
    "\n",
    "# Set the start and end date of the trip\n",
    "start_date = '2017-08-01'\n",
    "end_date = '2017-08-07'\n",
    "\n",
    "start = dt.datetime.strptime(start_date,'%Y-%m-%d')\n",
    "end = dt.datetime.strptime(end_date,'%Y-%m-%d')\n",
    "\n",
    "# Use the start and end date to create a range of dates\n",
    "date_generated = [start + dt.timedelta(days=x) for x in range(0, (end-start).days)]\n",
    "\n",
    "date = [str(date_generated[index].month) + '-' + str(date_generated[index].day) for index, day in enumerate(date_generated)]"
   ]
  },
  {
   "cell_type": "code",
   "execution_count": 84,
   "metadata": {},
   "outputs": [
    {
     "name": "stdout",
     "output_type": "stream",
     "text": [
      "8-1\n",
      "[(None, None, None)]\n",
      "<class 'str'>\n",
      "1900-08-01 00:00:00\n",
      "<class 'datetime.datetime'>\n"
     ]
    },
    {
     "data": {
      "text/plain": [
       "[(None, None, None)]"
      ]
     },
     "execution_count": 84,
     "metadata": {},
     "output_type": "execute_result"
    }
   ],
   "source": [
    "date_str = dt.datetime.strptime(date[0],\"%m-%d\")\n",
    "print(date[0])\n",
    "print(daily_normals(date[0]))\n",
    "print(type(date[0]))\n",
    "print(date_str)\n",
    "print(type(date_str))\n",
    "daily_normals(date_str)"
   ]
  },
  {
   "cell_type": "code",
   "execution_count": 73,
   "metadata": {},
   "outputs": [
    {
     "data": {
      "text/plain": [
       "[None, None, None, None, None, None]"
      ]
     },
     "execution_count": 73,
     "metadata": {},
     "output_type": "execute_result"
    }
   ],
   "source": [
    "# Use the `daily_normals` function to calculate the normals for each date string \n",
    "# and append the results to a list called `normals`\n",
    "normals = []\n",
    "# normals = [normals.append(daily_normals(date[index])) for index, date in enumerate(date)]\n",
    "normals = [normals.append(daily_normals(date[x])) for x in range(len(date))]\n",
    "normals"
   ]
  },
  {
   "cell_type": "code",
   "execution_count": null,
   "metadata": {},
   "outputs": [],
   "source": [
    "# Load the previous query results into a Pandas DataFrame and add the `trip_dates` range as the `date` index"
   ]
  },
  {
   "cell_type": "code",
   "execution_count": null,
   "metadata": {},
   "outputs": [],
   "source": [
    "# Plot the daily normals as an area plot with `stacked=False`"
   ]
  },
  {
   "cell_type": "markdown",
   "metadata": {},
   "source": [
    "## Close Session"
   ]
  },
  {
   "cell_type": "code",
   "execution_count": null,
   "metadata": {},
   "outputs": [],
   "source": []
  }
 ],
 "metadata": {
  "kernelspec": {
   "display_name": "Python 3",
   "language": "python",
   "name": "python3"
  },
  "language_info": {
   "codemirror_mode": {
    "name": "ipython",
    "version": 3
   },
   "file_extension": ".py",
   "mimetype": "text/x-python",
   "name": "python",
   "nbconvert_exporter": "python",
   "pygments_lexer": "ipython3",
   "version": "3.6.10"
  }
 },
 "nbformat": 4,
 "nbformat_minor": 4
}
